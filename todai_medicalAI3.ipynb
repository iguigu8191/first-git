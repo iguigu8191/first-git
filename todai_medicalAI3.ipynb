{
  "nbformat": 4,
  "nbformat_minor": 0,
  "metadata": {
    "colab": {
      "name": "todai_medicalAI3.ipynb",
      "provenance": [],
      "collapsed_sections": [],
      "mount_file_id": "1nTaZX5KH3enfc5khrKQh0WoZEcEalFmk",
      "authorship_tag": "ABX9TyM/pu5X99JG8cYpuFXsENDd",
      "include_colab_link": true
    },
    "kernelspec": {
      "name": "python3",
      "display_name": "Python 3"
    },
    "language_info": {
      "name": "python"
    },
    "accelerator": "GPU"
  },
  "cells": [
    {
      "cell_type": "markdown",
      "metadata": {
        "id": "view-in-github",
        "colab_type": "text"
      },
      "source": [
        "<a href=\"https://colab.research.google.com/github/iguigu8191/first-git/blob/main/todai_medicalAI3.ipynb\" target=\"_parent\"><img src=\"https://colab.research.google.com/assets/colab-badge.svg\" alt=\"Open In Colab\"/></a>"
      ]
    },
    {
      "cell_type": "code",
      "metadata": {
        "colab": {
          "base_uri": "https://localhost:8080/"
        },
        "id": "tfCGAwoYo0D2",
        "outputId": "acf8e6f5-1c5f-4587-d7de-ca3f7504e9cd"
      },
      "source": [
        "! wget https://www.dropbox.com/s/x0nhtd5v4ino22q/nih_xp_resized.tar.gz"
      ],
      "execution_count": 1,
      "outputs": [
        {
          "output_type": "stream",
          "text": [
            "--2021-04-27 13:27:37--  https://www.dropbox.com/s/x0nhtd5v4ino22q/nih_xp_resized.tar.gz\n",
            "Resolving www.dropbox.com (www.dropbox.com)... 162.125.1.18, 2620:100:601a:18::a27d:712\n",
            "Connecting to www.dropbox.com (www.dropbox.com)|162.125.1.18|:443... connected.\n",
            "HTTP request sent, awaiting response... 301 Moved Permanently\n",
            "Location: /s/raw/x0nhtd5v4ino22q/nih_xp_resized.tar.gz [following]\n",
            "--2021-04-27 13:27:37--  https://www.dropbox.com/s/raw/x0nhtd5v4ino22q/nih_xp_resized.tar.gz\n",
            "Reusing existing connection to www.dropbox.com:443.\n",
            "HTTP request sent, awaiting response... 302 Found\n",
            "Location: https://uc04ed6e68310ea057429c56a611.dl.dropboxusercontent.com/cd/0/inline/BNag7hEhT_UcRMbMQCICPoP_Y9YauWMuf8xSCcloEXJtwoR82h3IU9rhyd5YIJ8hRDczJZzhMNAuMMDEEAaPsxjvTrNJeM5NXrBJov82hsYZdhstMCImTOJJ26ICtH49mvU9IOxufhZbC5_NqT6OFVRD/file# [following]\n",
            "--2021-04-27 13:27:37--  https://uc04ed6e68310ea057429c56a611.dl.dropboxusercontent.com/cd/0/inline/BNag7hEhT_UcRMbMQCICPoP_Y9YauWMuf8xSCcloEXJtwoR82h3IU9rhyd5YIJ8hRDczJZzhMNAuMMDEEAaPsxjvTrNJeM5NXrBJov82hsYZdhstMCImTOJJ26ICtH49mvU9IOxufhZbC5_NqT6OFVRD/file\n",
            "Resolving uc04ed6e68310ea057429c56a611.dl.dropboxusercontent.com (uc04ed6e68310ea057429c56a611.dl.dropboxusercontent.com)... 162.125.1.15, 2620:100:601a:15::a27d:70f\n",
            "Connecting to uc04ed6e68310ea057429c56a611.dl.dropboxusercontent.com (uc04ed6e68310ea057429c56a611.dl.dropboxusercontent.com)|162.125.1.15|:443... connected.\n",
            "HTTP request sent, awaiting response... 302 Found\n",
            "Location: /cd/0/inline2/BNYP0uYzu5QAO-cMnKYdf7-BUBxAuiK1HgiEevmLjqMb22aOUOzTQvbxgg2pNB1SqIxCDSEdR5XEBVLpqTOONSOKalJcnqbRNiJTH5qeuxRlpLsw6BQ1MNR4ucwUvkbz2tQQRMZi32RVvQjxCi4tlUd8ResCCC6BgWgwFIVBIusqmPbYapO99hQzleQiB4sQ2VjTTGXga6qBhuDrjtKUGO0VgH0CKka_ZmrrcncYYbW6xcpMjB0I0zCeF1Qq18a59qUWNyrRXnJLAWOqmZUcKs7cO77WhZuFptBPZNO_5hJOq0vJC2Fsep51nWTYlPiA1CE7Gu3kJgeMlNMu9PQqUf5MVx6LD_qLbArD0QeXKQ3LcfqdNw4_uSKc87x6GoSmm9E/file [following]\n",
            "--2021-04-27 13:27:38--  https://uc04ed6e68310ea057429c56a611.dl.dropboxusercontent.com/cd/0/inline2/BNYP0uYzu5QAO-cMnKYdf7-BUBxAuiK1HgiEevmLjqMb22aOUOzTQvbxgg2pNB1SqIxCDSEdR5XEBVLpqTOONSOKalJcnqbRNiJTH5qeuxRlpLsw6BQ1MNR4ucwUvkbz2tQQRMZi32RVvQjxCi4tlUd8ResCCC6BgWgwFIVBIusqmPbYapO99hQzleQiB4sQ2VjTTGXga6qBhuDrjtKUGO0VgH0CKka_ZmrrcncYYbW6xcpMjB0I0zCeF1Qq18a59qUWNyrRXnJLAWOqmZUcKs7cO77WhZuFptBPZNO_5hJOq0vJC2Fsep51nWTYlPiA1CE7Gu3kJgeMlNMu9PQqUf5MVx6LD_qLbArD0QeXKQ3LcfqdNw4_uSKc87x6GoSmm9E/file\n",
            "Reusing existing connection to uc04ed6e68310ea057429c56a611.dl.dropboxusercontent.com:443.\n",
            "HTTP request sent, awaiting response... 200 OK\n",
            "Length: 710581192 (678M) [application/octet-stream]\n",
            "Saving to: ‘nih_xp_resized.tar.gz’\n",
            "\n",
            "nih_xp_resized.tar. 100%[===================>] 677.66M   116MB/s    in 6.8s    \n",
            "\n",
            "2021-04-27 13:27:45 (99.3 MB/s) - ‘nih_xp_resized.tar.gz’ saved [710581192/710581192]\n",
            "\n"
          ],
          "name": "stdout"
        }
      ]
    },
    {
      "cell_type": "code",
      "metadata": {
        "id": "dvpufHnmo7QE"
      },
      "source": [
        "! tar -zxf ./nih_xp_resized.tar.gz"
      ],
      "execution_count": 2,
      "outputs": []
    },
    {
      "cell_type": "code",
      "metadata": {
        "id": "XfQkYfOGpGKC"
      },
      "source": [
        "import pandas as pd\n",
        "import numpy as np\n",
        "\n",
        "df_train_val = pd.read_csv(\"/content/nih_xp_resized/img_labels_train_val.csv\")\n",
        "df_test = pd.read_csv(\"/content/nih_xp_resized/img_labels_test.csv\")"
      ],
      "execution_count": 3,
      "outputs": []
    },
    {
      "cell_type": "code",
      "metadata": {
        "colab": {
          "base_uri": "https://localhost:8080/"
        },
        "id": "m5IH8g-OpN7t",
        "outputId": "907783d6-5a06-43c5-f475-d22d36111f5b"
      },
      "source": [
        "# 学習用・テスト用の画像データセット作成\n",
        "\n",
        "import matplotlib.pyplot as plt\n",
        "import cv2\n",
        "\n",
        "\n",
        "import os \n",
        "import numpy as np\n",
        "import torch\n",
        "\n",
        "def read_imgs(file_names, img_dir='/content/nih_xp_resized/images_96', width=96, height=96):\n",
        "    result = []\n",
        "    for file_name in file_names:\n",
        "        img = cv2.imread(os.path.join(img_dir, file_name), 0)\n",
        "        img_array = np.array(img).reshape(1, 1, width, height)\n",
        "        result.append(img_array)\n",
        "    return result\n",
        "\n",
        "img_train_val = read_imgs(df_train_val['Image Index'])\n",
        "img_train_val = torch.tensor(np.concatenate(img_train_val, axis=0))\n",
        "\n",
        "img_test = read_imgs(df_test['Image Index'])\n",
        "img_test = torch.tensor(np.concatenate(img_test, axis=0))\n",
        "\n",
        "print(\"Size of train_val: \", img_train_val.shape)\n",
        "print(\"Size of test: \", img_test.shape)"
      ],
      "execution_count": 4,
      "outputs": [
        {
          "output_type": "stream",
          "text": [
            "Size of train_val:  torch.Size([25000, 1, 96, 96])\n",
            "Size of test:  torch.Size([5805, 1, 96, 96])\n"
          ],
          "name": "stdout"
        }
      ]
    },
    {
      "cell_type": "code",
      "metadata": {
        "colab": {
          "base_uri": "https://localhost:8080/"
        },
        "id": "LKgJIBHDpPHL",
        "outputId": "8b84a3ce-5be2-42f4-d67d-bccf4d1f5566"
      },
      "source": [
        "# 学習用・テスト用の正解データセット作成\n",
        "# 2値分類で行う。\n",
        "# Finding Labelsが\"No Finding\"であれば 0 、それ以外は1となるように正解データを作成する\n",
        "\n",
        "label_train_val = []\n",
        "for label in df_train_val['Finding Labels']:\n",
        "    if label == \"No Finding\":\n",
        "        label_train_val.append(0)\n",
        "    else:\n",
        "        label_train_val.append(1)\n",
        "\n",
        "label_test = []\n",
        "for label in df_test['Finding Labels']:\n",
        "    if label == \"No Finding\":\n",
        "        label_test.append(0)\n",
        "    else:\n",
        "        label_test.append(1)\n",
        "\n",
        "label_train_val = torch.tensor(label_train_val)\n",
        "label_test = torch.tensor(label_test)\n",
        "\n",
        "print(label_train_val.size())\n",
        "print(label_test.size())"
      ],
      "execution_count": 5,
      "outputs": [
        {
          "output_type": "stream",
          "text": [
            "torch.Size([25000])\n",
            "torch.Size([5805])\n"
          ],
          "name": "stdout"
        }
      ]
    },
    {
      "cell_type": "code",
      "metadata": {
        "id": "b7fzmCkg1XWN"
      },
      "source": [
        "import numpy as np\n",
        "\n",
        "import torch\n",
        "from torchvision.transforms import ToTensor\n",
        "from torch.utils.data import DataLoader, Dataset, Subset\n",
        "from torchvision.models import resnet50\n",
        "import torch.nn as nn\n",
        "\n",
        "from sklearn.datasets import fetch_openml\n",
        "from sklearn.model_selection import KFold"
      ],
      "execution_count": 6,
      "outputs": []
    },
    {
      "cell_type": "code",
      "metadata": {
        "id": "iK-u1DOj1Y9g"
      },
      "source": [
        "class MyDataset(torch.utils.data.Dataset):\n",
        "\n",
        "    def __init__(self, data, label, transform=None):\n",
        "        self.transform = transform\n",
        "        self.data = data\n",
        "        self.data_num = len(data)\n",
        "        self.label = label\n",
        "\n",
        "    def __len__(self):\n",
        "        return self.data_num\n",
        "\n",
        "    def __getitem__(self, idx):\n",
        "        data = self.data[idx]\n",
        "        label = torch.from_numpy(np.array(self.label[idx]))\n",
        "\n",
        "        if self.transform:\n",
        "            data = self.transform(data)\n",
        "\n",
        "        sample = (data, label)\n",
        "        return sample"
      ],
      "execution_count": 7,
      "outputs": []
    },
    {
      "cell_type": "code",
      "metadata": {
        "id": "qFfELl2J1hIm"
      },
      "source": [
        "def train(net, train_loader):\n",
        "    net.train()\n",
        "    running_loss = 0\n",
        "    correct = 0\n",
        "    total = 0\n",
        "\n",
        "    for batch_idx, (images, labels) in enumerate(train_loader):\n",
        "        images = images.to(device)\n",
        "        labels = labels.to(device)\n",
        "        images= images.float()\n",
        "\n",
        "        optimizer.zero_grad()\n",
        "        outputs = net(images)\n",
        "\n",
        "        loss = criterion(outputs, labels)\n",
        "        loss.backward()\n",
        "        optimizer.step()\n",
        "\n",
        "        running_loss += loss.item()\n",
        "        _, predict = torch.max(outputs.data, 1)\n",
        "        correct += (predict == labels).sum().item()\n",
        "        total += labels.size(0)\n",
        "\n",
        "    train_loss = running_loss / len(train_loader)\n",
        "    train_acc = correct / total\n",
        "\n",
        "    return net, train_loss, train_acc\n",
        "\n",
        "def valid(net, valid_loader):\n",
        "    net.eval()\n",
        "    running_loss = 0\n",
        "    correct = 0\n",
        "    total = 0\n",
        "\n",
        "    with torch.no_grad():\n",
        "        for batch_idx, (images, labels) in enumerate(valid_loader):\n",
        "            images = images.to(device)\n",
        "            labels = labels.to(device)\n",
        "            images = images.float()\n",
        "\n",
        "            outputs = net(images)\n",
        "\n",
        "            loss = criterion(outputs, labels)\n",
        "            running_loss += loss.item()\n",
        "\n",
        "            _, predict = torch.max(outputs.data, 1)\n",
        "            correct += (predict == labels).sum().item()\n",
        "            total += labels.size(0)\n",
        "\n",
        "    val_loss = running_loss / len(valid_loader)\n",
        "    val_acc = correct / total\n",
        "\n",
        "    return net, val_loss, val_acc\n",
        "\n",
        "def test(net, valid_loader):\n",
        "    net.eval()\n",
        "    running_loss = 0\n",
        "    correct = 0\n",
        "    total = 0\n",
        "    \n",
        "    r = 0\n",
        "    o = 0\n",
        "\n",
        "    tp = 0\n",
        "    tn = 0\n",
        "    fp = 0\n",
        "    fn =0\n",
        "\n",
        "    with torch.no_grad():\n",
        "        for batch_idx, (images, labels) in enumerate(valid_loader):\n",
        "            images = images.to(device)\n",
        "            labels = labels.to(device)\n",
        "            images = images.float()\n",
        "\n",
        "            outputs = net(images)\n",
        "\n",
        "            loss = criterion(outputs, labels)\n",
        "            running_loss += loss.item()\n",
        "\n",
        "            _, predict = torch.max(outputs.data, 1)\n",
        "            correct += (predict == labels).sum().item()\n",
        "            total += labels.size(0)\n",
        "\n",
        "                        #異常なし：０、異常あり：１\n",
        "            tn += (predict < labels).sum().item()\n",
        "            fp += (predict > labels).sum().item()\n",
        "\n",
        "            r += (predict == torch.tensor([0], device='cuda:0')).sum().item()\n",
        "            tp = r - fp\n",
        "            o += (predict == torch.tensor([0], device='cuda:0')).sum().item()\n",
        "            fn = o - tn\n",
        "\n",
        "    test_loss = running_loss / len(valid_loader)\n",
        "    test_acc = correct / total\n",
        "\n",
        "    test_recall = tp / (tp + fp)\n",
        "    test_precision = tp / (tp + fn)\n",
        "    test_f_measure = 2 * test_recall * test_precision / ( test_recall + test_precision)\n",
        "\n",
        "    return net, test_loss, test_acc, test_recall, test_precision, test_f_measure"
      ],
      "execution_count": 8,
      "outputs": []
    },
    {
      "cell_type": "code",
      "metadata": {
        "id": "3yL87ifk15mS"
      },
      "source": [
        "num_epochs = 2\n",
        "batch_size = 64\n",
        "learning_rate = 0.01"
      ],
      "execution_count": 12,
      "outputs": []
    },
    {
      "cell_type": "code",
      "metadata": {
        "id": "xIEkafQs1788"
      },
      "source": [
        "n_splits = 5\n",
        "\n",
        "dataset = MyDataset(data=img_train_val, label=label_train_val, transform=None)\n",
        "\n",
        "device = 'cuda:0'\n",
        "criterion = nn.CrossEntropyLoss()\n",
        "fold = KFold(n_splits=n_splits, shuffle=True, random_state=0)"
      ],
      "execution_count": 13,
      "outputs": []
    },
    {
      "cell_type": "code",
      "metadata": {
        "colab": {
          "base_uri": "https://localhost:8080/"
        },
        "id": "7B5k8SnY2lOr",
        "outputId": "fbfff248-506f-4a6e-891d-4ea46742f925"
      },
      "source": [
        "print(resnet50)"
      ],
      "execution_count": 52,
      "outputs": [
        {
          "output_type": "stream",
          "text": [
            "<function resnet50 at 0x7f4329469cb0>\n"
          ],
          "name": "stdout"
        }
      ]
    },
    {
      "cell_type": "code",
      "metadata": {
        "colab": {
          "base_uri": "https://localhost:8080/"
        },
        "id": "76Q3Z4tM2FJJ",
        "outputId": "0c9a3d28-2b0b-40e6-a555-de7f7577069e"
      },
      "source": [
        "cv = 0.0\n",
        "a = 0\n",
        "b = 0\n",
        "c = 0\n",
        "d = 0\n",
        "\n",
        "for fold_idx, (train_idx, valid_idx) in enumerate(fold.split(dataset.data, dataset.label)):\n",
        "    print('fold {}'.format(fold_idx))\n",
        "    net = resnet50(num_classes=2)\n",
        "    net.conv1 = nn.Conv2d(1, 64, kernel_size=5, stride=2, padding=3, bias=False)\n",
        "    net = net.to(device)\n",
        "    optimizer = torch.optim.Adam(params=net.parameters(), lr=0.001)\n",
        "\n",
        "    train_loader = DataLoader(Subset(dataset, train_idx), shuffle=True, batch_size=batch_size)\n",
        "    valid_loader = DataLoader(Subset(dataset, valid_idx), shuffle=False, batch_size=batch_size)\n",
        "\n",
        "    for epoch_idx in range(num_epochs):\n",
        "\n",
        "        net, train_loss, train_acc = train(net, train_loader)\n",
        "        net, valid_loss, valid_acc = valid(net, valid_loader)\n",
        "\n",
        "        print('train_loss {:.3f} valid_loss {:.3f} train_acc {:.3f} valid_acc {:.3f}'.format(train_loss, valid_loss, train_acc, valid_acc))\n",
        "\n",
        "    cv += valid_acc / fold.n_splits\n",
        "\n",
        "    test_set = MyDataset(img_test, label_test)\n",
        "\n",
        "    test_loader = torch.utils.data.DataLoader(test_set,\n",
        "                                             shuffle=True, num_workers=2)\n",
        "\n",
        "    net, test_loss, test_acc, test_recall, test_precision, test_f_measure = test(net, test_loader)\n",
        "\n",
        "    print('test_acc {:.3f} test_recall {:.3f} test_precision {:.3f} test_f_measure {:.3f}'.format(test_acc, test_recall, test_precision, test_f_measure))\n",
        "\n",
        "    a += test_acc\n",
        "    b += test_recall\n",
        "    c += test_precision\n",
        "    d += test_f_measure  \n",
        "\n",
        "    torch.save(net.state_dict(), \"net.pth\")\n",
        "\n",
        "average_acc = a / n_splits\n",
        "average_recall = b / n_splits\n",
        "average_precision = c / n_splits\n",
        "average_f_measure  = d / n_splits\n",
        "\n",
        "print('average_acc {:.3f} average_recall {:.3f} average_precision {:.3f} average_f_measure {:.3f}'.format(average_acc, average_recall, average_precision, average_f_measure))"
      ],
      "execution_count": 14,
      "outputs": [
        {
          "output_type": "stream",
          "text": [
            "fold 0\n",
            "train_loss 0.649 valid_loss 0.609 train_acc 0.697 valid_acc 0.710\n",
            "train_loss 0.591 valid_loss 0.595 train_acc 0.709 valid_acc 0.710\n",
            "test_acc 0.663 test_recall 0.967 test_precision 0.590 test_f_measure 0.733\n",
            "fold 1\n",
            "train_loss 0.643 valid_loss 0.654 train_acc 0.699 valid_acc 0.700\n",
            "train_loss 0.594 valid_loss 0.593 train_acc 0.708 valid_acc 0.701\n",
            "test_acc 0.658 test_recall 0.995 test_precision 0.602 test_f_measure 0.750\n",
            "fold 2\n",
            "train_loss 0.641 valid_loss 0.598 train_acc 0.693 valid_acc 0.704\n",
            "train_loss 0.590 valid_loss 0.582 train_acc 0.706 valid_acc 0.711\n",
            "test_acc 0.655 test_recall 0.999 test_precision 0.604 test_f_measure 0.753\n",
            "fold 3\n",
            "train_loss 0.639 valid_loss 0.595 train_acc 0.693 valid_acc 0.694\n",
            "train_loss 0.598 valid_loss 0.595 train_acc 0.703 valid_acc 0.701\n",
            "test_acc 0.663 test_recall 0.993 test_precision 0.600 test_f_measure 0.748\n",
            "fold 4\n",
            "train_loss 0.647 valid_loss 0.647 train_acc 0.692 valid_acc 0.709\n",
            "train_loss 0.589 valid_loss 0.629 train_acc 0.706 valid_acc 0.698\n",
            "test_acc 0.657 test_recall 0.989 test_precision 0.600 test_f_measure 0.747\n",
            "average_acc 0.659 average_recall 0.989 average_precision 0.599 average_f_measure 0.746\n"
          ],
          "name": "stdout"
        }
      ]
    },
    {
      "cell_type": "markdown",
      "metadata": {
        "id": "YS5gcsI7kQfx"
      },
      "source": [
        ""
      ]
    },
    {
      "cell_type": "code",
      "metadata": {
        "id": "aAZVinD6kKSL"
      },
      "source": [
        "import torch.optim as optim\n",
        "from torchvision import datasets, models, transforms\n",
        "\n",
        "import os \n",
        "import copy\n",
        "from PIL import Image"
      ],
      "execution_count": 21,
      "outputs": []
    },
    {
      "cell_type": "code",
      "metadata": {
        "id": "-BtP_4R2as0X"
      },
      "source": [
        "class GradCAM:\n",
        "    def __init__(self, model, feature_layer):\n",
        "        self.model = model\n",
        "        self.feature_layer = feature_layer\n",
        "        self.model.eval()\n",
        "        self.feature_grad = None\n",
        "        self.feature_map = None\n",
        "        self.hooks = []\n",
        "\n",
        "        def save_feature_grad(module, in_grad, out_grad):\n",
        "            self.feature_grad = out_grad[0]\n",
        "        \n",
        "        self.hooks.append(self.feature_layer.register_backward_hook(save_feature_grad))\n",
        "\n",
        "        def save_feature_map(module, inp, outp):\n",
        "\n",
        "            self.feature_map = outp[0]\n",
        "\n",
        "        self.hooks.append(self.feature_layer.register_forward_hook(save_feature_map))\n",
        "\n",
        "    def forward(self, x):\n",
        "        return self.model(x)\n",
        "\n",
        "    def backward_on_target(self, output, target):\n",
        "        \n",
        "        self.model.zero_grad()\n",
        "        one_hot_output = torch.zeros([1, output.size()[-1]])\n",
        "        one_hot_output[0][target] = 1\n",
        "\n",
        "        output.backward(gradient=one_hot_output, retain_graph=True)\n",
        "\n",
        "    def clea_hook(self):\n",
        "        for hook in self.hooks:\n",
        "            hook.remove()\n"
      ],
      "execution_count": 18,
      "outputs": []
    },
    {
      "cell_type": "code",
      "metadata": {
        "colab": {
          "base_uri": "https://localhost:8080/",
          "height": 285
        },
        "id": "-Cwlmwz4pHzo",
        "outputId": "fc4be2d0-6be8-4a69-c5b7-d820070e0e44"
      },
      "source": [
        "drive_dir = \"drive/My Drive/Colab Notebooks/grad-cam/image_only5/\"\n",
        "\n",
        "path = drive_dir + \"00023313_007.png\"\n",
        "VISUALIZE_SIZE = (224, 224)\n",
        "image = Image.open(path)\n",
        "image.thumbnail(VISUALIZE_SIZE)\n",
        "\n",
        "plt.imshow(image)"
      ],
      "execution_count": 49,
      "outputs": [
        {
          "output_type": "execute_result",
          "data": {
            "text/plain": [
              "<matplotlib.image.AxesImage at 0x7f42545cfbd0>"
            ]
          },
          "metadata": {
            "tags": []
          },
          "execution_count": 49
        },
        {
          "output_type": "display_data",
          "data": {
            "image/png": "[encoded data removed]",
            "text/plain": [
              "<Figure size 432x288 with 1 Axes>"
            ]
          },
          "metadata": {
            "tags": [],
            "needs_background": "light"
          }
        }
      ]
    },
    {
      "cell_type": "code",
      "metadata": {
        "id": "GJ23sw-GqKG4"
      },
      "source": [
        "image_transforms = {\n",
        "    'train': transforms.Compose([\n",
        "        transforms.RandomResizedCrop(224),\n",
        "        transforms.RandomHorizontalFlip(),\n",
        "        transforms.ToTensor(),\n",
        "        transforms.Normalize([0.485, 0.456, 0.406], [0.229, 0.224, 0.225])\n",
        "    ]),\n",
        "    'val': transforms.Compose([\n",
        "        transforms.Resize(256),\n",
        "        transforms.CenterCrop(224),\n",
        "        transforms.ToTensor(),\n",
        "        transforms.Normalize([0.485, 0.456, 0.406], [0.229, 0.224, 0.225])\n",
        "    ]),\n",
        "    'test':\n",
        "    transforms.Compose([\n",
        "        transforms.Resize(size=256),\n",
        "        transforms.CenterCrop(size=224),\n",
        "        transforms.ToTensor(),\n",
        "        transforms.Normalize([0.485, 0.456, 0.406], [0.229, 0.224, 0.225])\n",
        "    ]),\n",
        "}"
      ],
      "execution_count": 33,
      "outputs": []
    },
    {
      "cell_type": "code",
      "metadata": {
        "colab": {
          "base_uri": "https://localhost:8080/",
          "height": 372
        },
        "id": "PPlruwNMqSAZ",
        "outputId": "eb0c12c0-28ce-4b1c-911e-eaa56fc0b750"
      },
      "source": [
        "image_oring_size = image.size\n",
        "\n",
        "transform = transforms.Compose([\n",
        "    transforms.Resize((224, 224)),\n",
        "    transforms.ToTensor(),                                \n",
        "])\n",
        "\n",
        "test_image_tensor = transform(image)\n",
        "test_image_tensor = test_image_tensor.unsqueeze(0)\n",
        "device = torch.device(\"cpu\")\n",
        "model = models.resnet50(pretrained=False)\n",
        "n_classes = 2\n",
        "num_ftrs = model.fc.in_features\n",
        "model.fc = nn.Linear(num_ftrs, n_classes)\n",
        "model.to(device)\n",
        "model.eval()\n",
        "\n",
        "from collections import OrderedDict\n",
        "import torch\n",
        "checkpoint=torch.load(\"net.pth\")\n",
        "\n",
        "state_dict = checkpoint\n",
        "new_state_dict = OrderedDict()\n",
        "\n",
        "model.load_state_dict(state_dict)"
      ],
      "execution_count": 51,
      "outputs": [
        {
          "output_type": "error",
          "ename": "RuntimeError",
          "evalue": "ignored",
          "traceback": [
            "\u001b[0;31m---------------------------------------------------------------------------\u001b[0m",
            "\u001b[0;31mRuntimeError\u001b[0m                              Traceback (most recent call last)",
            "\u001b[0;32m<ipython-input-51-b587e4e57c83>\u001b[0m in \u001b[0;36m<module>\u001b[0;34m()\u001b[0m\n\u001b[1;32m     23\u001b[0m \u001b[0mnew_state_dict\u001b[0m \u001b[0;34m=\u001b[0m \u001b[0mOrderedDict\u001b[0m\u001b[0;34m(\u001b[0m\u001b[0;34m)\u001b[0m\u001b[0;34m\u001b[0m\u001b[0;34m\u001b[0m\u001b[0m\n\u001b[1;32m     24\u001b[0m \u001b[0;34m\u001b[0m\u001b[0m\n\u001b[0;32m---> 25\u001b[0;31m \u001b[0mmodel\u001b[0m\u001b[0;34m.\u001b[0m\u001b[0mload_state_dict\u001b[0m\u001b[0;34m(\u001b[0m\u001b[0mstate_dict\u001b[0m\u001b[0;34m)\u001b[0m\u001b[0;34m\u001b[0m\u001b[0;34m\u001b[0m\u001b[0m\n\u001b[0m",
            "\u001b[0;32m/usr/local/lib/python3.7/dist-packages/torch/nn/modules/module.py\u001b[0m in \u001b[0;36mload_state_dict\u001b[0;34m(self, state_dict, strict)\u001b[0m\n\u001b[1;32m   1222\u001b[0m         \u001b[0;32mif\u001b[0m \u001b[0mlen\u001b[0m\u001b[0;34m(\u001b[0m\u001b[0merror_msgs\u001b[0m\u001b[0;34m)\u001b[0m \u001b[0;34m>\u001b[0m \u001b[0;36m0\u001b[0m\u001b[0;34m:\u001b[0m\u001b[0;34m\u001b[0m\u001b[0;34m\u001b[0m\u001b[0m\n\u001b[1;32m   1223\u001b[0m             raise RuntimeError('Error(s) in loading state_dict for {}:\\n\\t{}'.format(\n\u001b[0;32m-> 1224\u001b[0;31m                                self.__class__.__name__, \"\\n\\t\".join(error_msgs)))\n\u001b[0m\u001b[1;32m   1225\u001b[0m         \u001b[0;32mreturn\u001b[0m \u001b[0m_IncompatibleKeys\u001b[0m\u001b[0;34m(\u001b[0m\u001b[0mmissing_keys\u001b[0m\u001b[0;34m,\u001b[0m \u001b[0munexpected_keys\u001b[0m\u001b[0;34m)\u001b[0m\u001b[0;34m\u001b[0m\u001b[0;34m\u001b[0m\u001b[0m\n\u001b[1;32m   1226\u001b[0m \u001b[0;34m\u001b[0m\u001b[0m\n",
            "\u001b[0;31mRuntimeError\u001b[0m: Error(s) in loading state_dict for ResNet:\n\tsize mismatch for conv1.weight: copying a param with shape torch.Size([64, 1, 5, 5]) from checkpoint, the shape in current model is torch.Size([64, 3, 7, 7])."
          ]
        }
      ]
    },
    {
      "cell_type": "code",
      "metadata": {
        "id": "lQR80VUZsqSt"
      },
      "source": [
        ""
      ],
      "execution_count": null,
      "outputs": []
    }
  ]
}